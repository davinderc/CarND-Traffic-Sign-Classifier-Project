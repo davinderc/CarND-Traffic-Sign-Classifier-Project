{
 "cells": [
  {
   "cell_type": "markdown",
   "metadata": {
    "deletable": true,
    "editable": true
   },
   "source": [
    "# Self-Driving Car Engineer Nanodegree\n",
    "\n",
    "## Deep Learning\n",
    "\n",
    "## Project: Build a Traffic Sign Recognition Classifier\n",
    "\n",
    "In this notebook, a template is provided for you to implement your functionality in stages, which is required to successfully complete this project. If additional code is required that cannot be included in the notebook, be sure that the Python code is successfully imported and included in your submission if necessary. \n",
    "\n",
    "> **Note**: Once you have completed all of the code implementations, you need to finalize your work by exporting the iPython Notebook as an HTML document. Before exporting the notebook to html, all of the code cells need to have been run so that reviewers can see the final implementation and output. You can then export the notebook by using the menu above and navigating to  \\n\",\n",
    "    \"**File -> Download as -> HTML (.html)**. Include the finished document along with this notebook as your submission. \n",
    "\n",
    "In addition to implementing code, there is a writeup to complete. The writeup should be completed in a separate file, which can be either a markdown file or a pdf document. There is a [write up template](https://github.com/udacity/CarND-Traffic-Sign-Classifier-Project/blob/master/writeup_template.md) that can be used to guide the writing process. Completing the code template and writeup template will cover all of the [rubric points](https://review.udacity.com/#!/rubrics/481/view) for this project.\n",
    "\n",
    "The [rubric](https://review.udacity.com/#!/rubrics/481/view) contains \"Stand Out Suggestions\" for enhancing the project beyond the minimum requirements. The stand out suggestions are optional. If you decide to pursue the \"stand out suggestions\", you can include the code in this Ipython notebook and also discuss the results in the writeup file.\n",
    "\n",
    "\n",
    ">**Note:** Code and Markdown cells can be executed using the **Shift + Enter** keyboard shortcut. In addition, Markdown cells can be edited by typically double-clicking the cell to enter edit mode."
   ]
  },
  {
   "cell_type": "markdown",
   "metadata": {
    "deletable": true,
    "editable": true
   },
   "source": [
    "---\n",
    "## Step 0: Load The Data"
   ]
  },
  {
   "cell_type": "code",
   "execution_count": 1,
   "metadata": {
    "collapsed": false,
    "deletable": true,
    "editable": true
   },
   "outputs": [
    {
     "name": "stdout",
     "output_type": "stream",
     "text": [
      "Downloading ./traffic-signs-data.zip...\n",
      "Download finished\n",
      "All files downloaded.\n"
     ]
    }
   ],
   "source": [
    "import os\n",
    "from zipfile import ZipFile\n",
    "from urllib.request import urlretrieve\n",
    "# Download data\n",
    "def download(url,file):\n",
    "    # This function was copied from TensorFlow Lab\n",
    "    if not os.path.isfile(file):\n",
    "        print('Downloading ' + file + '...')\n",
    "        urlretrieve(url,file)\n",
    "        print('Download finished')\n",
    "download('https://d17h27t6h515a5.cloudfront.net/topher/2017/February/5898cd6f_traffic-signs-data/traffic-signs-data.zip','./traffic-signs-data.zip')\n",
    "print('All files downloaded.')"
   ]
  },
  {
   "cell_type": "code",
   "execution_count": 5,
   "metadata": {
    "collapsed": false,
    "deletable": true,
    "editable": true
   },
   "outputs": [
    {
     "name": "stdout",
     "output_type": "stream",
     "text": [
      "['file', 'command.sh', 'checkpoint', 'traffic-signs-data.zip', 'internetTrafficSigns', 'validVsTrain.png', 'writeup_template.md', 'raw', '.ipynb_checkpoints', 'Traffic_Sign_ClassifierGPUTrained.ipynb', 'internetTraff.csv', 'lenet.index', 'carnd.sh', 'internetTrafficSigns.zip', 'visualize_cnn.png', 'lenet.meta', 'README.md', 'lenet.data-00000-of-00001', 'Traffic_Sign_Classifier.ipynb', 'examples', 'signnames.csv']\n"
     ]
    }
   ],
   "source": [
    "import os\n",
    "def uncompress_features_labels(file):\n",
    "    # function copied and adapted from TensorFlow Lab\n",
    "    zipf = ZipFile(file, 'r')\n",
    "    zipf.extractall()\n",
    "    zipf.close()\n",
    "\n",
    "print(os.listdir())\n",
    "uncompress_features_labels('traffic-signs-data.zip')\n"
   ]
  },
  {
   "cell_type": "code",
   "execution_count": 6,
   "metadata": {
    "collapsed": false,
    "deletable": true,
    "editable": true
   },
   "outputs": [
    {
     "name": "stdout",
     "output_type": "stream",
     "text": [
      "['file', 'command.sh', 'checkpoint', 'traffic-signs-data.zip', 'train.p', 'internetTrafficSigns', 'validVsTrain.png', 'writeup_template.md', 'raw', '.ipynb_checkpoints', 'Traffic_Sign_ClassifierGPUTrained.ipynb', 'internetTraff.csv', 'valid.p', 'test.p', 'lenet.index', 'carnd.sh', 'internetTrafficSigns.zip', 'visualize_cnn.png', 'lenet.meta', 'README.md', 'lenet.data-00000-of-00001', 'Traffic_Sign_Classifier.ipynb', 'examples', 'signnames.csv']\n"
     ]
    }
   ],
   "source": [
    "print(os.listdir())"
   ]
  },
  {
   "cell_type": "code",
   "execution_count": 7,
   "metadata": {
    "collapsed": false,
    "deletable": true,
    "editable": true
   },
   "outputs": [
    {
     "name": "stdout",
     "output_type": "stream",
     "text": [
      "Image Shape: (32, 32, 3)\n",
      "Training Set: 34799 samples\n",
      "Validation Set: 4410 samples\n",
      "Test Set: 12630 samples\n"
     ]
    }
   ],
   "source": [
    "# Load pickled data\n",
    "import pickle\n",
    "\n",
    "# TODO: Fill this in based on where you saved the training and testing data\n",
    "cwd = '/home/controlfreak/udacity/CarND-Traffic-Sign-Classifier-Project/'\n",
    "training_file = 'train.p'\n",
    "validation_file = 'valid.p'\n",
    "testing_file = 'test.p'\n",
    "\n",
    "with open(training_file, mode='rb') as f:\n",
    "    train = pickle.load(f)\n",
    "with open(validation_file, mode='rb') as f:\n",
    "    valid = pickle.load(f)\n",
    "with open(testing_file, mode='rb') as f:\n",
    "    test = pickle.load(f)\n",
    "    \n",
    "X_train, y_train = train['features'], train['labels']\n",
    "X_valid, y_valid = valid['features'], valid['labels']\n",
    "X_test, y_test = test['features'], test['labels']\n",
    "\n",
    "assert(len(X_train) == len(y_train))\n",
    "assert(len(X_valid) == len(y_valid))\n",
    "assert(len(X_test) == len(y_test))\n",
    "\n",
    "print(\"Image Shape: {}\".format(X_train[0].shape))\n",
    "print(\"Training Set: {} samples\".format(len(X_train)))\n",
    "print(\"Validation Set: {} samples\".format(len(X_valid)))\n",
    "print(\"Test Set: {} samples\".format(len(X_test)))"
   ]
  },
  {
   "cell_type": "markdown",
   "metadata": {
    "deletable": true,
    "editable": true
   },
   "source": [
    "---\n",
    "\n",
    "## Step 1: Dataset Summary & Exploration\n",
    "\n",
    "The pickled data is a dictionary with 4 key/value pairs:\n",
    "\n",
    "- `'features'` is a 4D array containing raw pixel data of the traffic sign images, (num examples, width, height, channels).\n",
    "- `'labels'` is a 1D array containing the label/class id of the traffic sign. The file `signnames.csv` contains id -> name mappings for each id.\n",
    "- `'sizes'` is a list containing tuples, (width, height) representing the the original width and height the image.\n",
    "- `'coords'` is a list containing tuples, (x1, y1, x2, y2) representing coordinates of a bounding box around the sign in the image. **THESE COORDINATES ASSUME THE ORIGINAL IMAGE. THE PICKLED DATA CONTAINS RESIZED VERSIONS (32 by 32) OF THESE IMAGES**\n",
    "\n",
    "Complete the basic data summary below. Use python, numpy and/or pandas methods to calculate the data summary rather than hard coding the results. For example, the [pandas shape method](http://pandas.pydata.org/pandas-docs/stable/generated/pandas.DataFrame.shape.html) might be useful for calculating some of the summary results. "
   ]
  },
  {
   "cell_type": "markdown",
   "metadata": {
    "deletable": true,
    "editable": true
   },
   "source": [
    "### Provide a Basic Summary of the Data Set Using Python, Numpy and/or Pandas"
   ]
  },
  {
   "cell_type": "code",
   "execution_count": 8,
   "metadata": {
    "collapsed": false,
    "deletable": true,
    "editable": true
   },
   "outputs": [
    {
     "name": "stdout",
     "output_type": "stream",
     "text": [
      "Number of training examples = 34799\n",
      "Number of testing examples = 12630\n",
      "Image data shape = (32, 32, 3)\n",
      "Number of classes = 42\n"
     ]
    }
   ],
   "source": [
    "### Replace each question mark with the appropriate value. \n",
    "### Use python, pandas or numpy methods rather than hard coding the results\n",
    "import numpy as np\n",
    "\n",
    "# TODO: Number of training examples\n",
    "n_train = X_train.shape[0]\n",
    "\n",
    "# TODO: Number of testing examples.\n",
    "n_test = X_test.shape[0]\n",
    "\n",
    "# TODO: What's the shape of an traffic sign image?\n",
    "image_shape = X_train[0].shape\n",
    "\n",
    "# TODO: How many unique classes/labels there are in the dataset.\n",
    "n_classes = np.max(y_train)\n",
    "\n",
    "print(\"Number of training examples =\", n_train)\n",
    "print(\"Number of testing examples =\", n_test)\n",
    "print(\"Image data shape =\", image_shape)\n",
    "print(\"Number of classes =\", n_classes)"
   ]
  },
  {
   "cell_type": "markdown",
   "metadata": {
    "deletable": true,
    "editable": true
   },
   "source": [
    "### Include an exploratory visualization of the dataset"
   ]
  },
  {
   "cell_type": "markdown",
   "metadata": {
    "deletable": true,
    "editable": true
   },
   "source": [
    "Visualize the German Traffic Signs Dataset using the pickled file(s). This is open ended, suggestions include: plotting traffic sign images, plotting the count of each sign, etc.\n",
    "\n",
    "The [Matplotlib](http://matplotlib.org/) [examples](http://matplotlib.org/examples/index.html) and [gallery](http://matplotlib.org/gallery.html) pages are a great resource for doing visualizations in Python.\n",
    "\n",
    "**NOTE:** It's recommended you start with something simple first. If you wish to do more, come back to it after you've completed the rest of the sections."
   ]
  },
  {
   "cell_type": "code",
   "execution_count": 13,
   "metadata": {
    "collapsed": false,
    "deletable": true,
    "editable": true
   },
   "outputs": [
    {
     "name": "stdout",
     "output_type": "stream",
     "text": [
      "Examples of images in dataset:\n"
     ]
    },
    {
     "data": {
      "image/png": "[encoded data removed]",
      "text/plain": [
       "<matplotlib.figure.Figure at 0x7fa8897117f0>"
      ]
     },
     "metadata": {},
     "output_type": "display_data"
    },
    {
     "data": {
      "image/png": "[encoded data removed]",
      "text/plain": [
       "<matplotlib.figure.Figure at 0x7fa88966db38>"
      ]
     },
     "metadata": {},
     "output_type": "display_data"
    },
    {
     "data": {
      "image/png": "[encoded data removed]",
      "text/plain": [
       "<matplotlib.figure.Figure at 0x7fa8904a3630>"
      ]
     },
     "metadata": {},
     "output_type": "display_data"
    },
    {
     "data": {
      "image/png": "[encoded data removed]",
      "text/plain": [
       "<matplotlib.figure.Figure at 0x7fa8893df5f8>"
      ]
     },
     "metadata": {},
     "output_type": "display_data"
    },
    {
     "data": {
      "image/png": "[encoded data removed]",
      "text/plain": [
       "<matplotlib.figure.Figure at 0x7fa88960da90>"
      ]
     },
     "metadata": {},
     "output_type": "display_data"
    },
    {
     "data": {
      "image/png": "[encoded data removed]",
      "text/plain": [
       "<matplotlib.figure.Figure at 0x7fa888d16208>"
      ]
     },
     "metadata": {},
     "output_type": "display_data"
    },
    {
     "data": {
      "image/png": "[encoded data removed]",
      "text/plain": [
       "<matplotlib.figure.Figure at 0x7fa888b51278>"
      ]
     },
     "metadata": {},
     "output_type": "display_data"
    }
   ],
   "source": [
    "### Data exploration visualization code goes here.\n",
    "### Feel free to use as many code cells as needed.\n",
    "import matplotlib.pyplot as plt\n",
    "import matplotlib.gridspec as gridspec\n",
    "import random\n",
    "# Visualizations will be shown in the notebook.\n",
    "%matplotlib inline\n",
    "\n",
    "# Show random image from dataset, with proper classification. These can be checked against the signnames.csv file\n",
    "rint = random.randint(0,len(X_train))\n",
    "#plt.figure(1)\n",
    "#plt.imshow(X_train[rint])\n",
    "#print(\"Image class: {}\".format(y_train[rint]))\n",
    "\n",
    "print(\"Examples of images in dataset:\")\n",
    "\n",
    "k = 0\n",
    "for i in range(43):\n",
    "    if (i % 7) == 0:\n",
    "        fig = plt.figure(i/7)\n",
    "    ax1 = fig.add_subplot(1,7,(i%7)+1)\n",
    "    for j in range(len(X_train)):\n",
    "        if y_train[j] == i:\n",
    "            plt.imshow(X_train[j])\n",
    "            plt.text(13,40,i)\n",
    "            ax1.axes.get_yaxis().set_visible(False)\n",
    "            ax1.axes.get_xaxis().set_visible(False)\n",
    "            break\n",
    "        if y_train[j] > 42:\n",
    "            break\n"
   ]
  },
  {
   "cell_type": "markdown",
   "metadata": {
    "deletable": true,
    "editable": true
   },
   "source": [
    "----\n",
    "\n",
    "## Step 2: Design and Test a Model Architecture\n",
    "\n",
    "Design and implement a deep learning model that learns to recognize traffic signs. Train and test your model on the [German Traffic Sign Dataset](http://benchmark.ini.rub.de/?section=gtsrb&subsection=dataset).\n",
    "\n",
    "There are various aspects to consider when thinking about this problem:\n",
    "\n",
    "- Neural network architecture\n",
    "- Play around preprocessing techniques (normalization, rgb to grayscale, etc)\n",
    "- Number of examples per label (some have more than others).\n",
    "- Generate fake data.\n",
    "\n",
    "Here is an example of a [published baseline model on this problem](http://yann.lecun.com/exdb/publis/pdf/sermanet-ijcnn-11.pdf). It's not required to be familiar with the approach used in the paper but, it's good practice to try to read papers like these.\n",
    "\n",
    "**NOTE:** The LeNet-5 implementation shown in the [classroom](https://classroom.udacity.com/nanodegrees/nd013/parts/fbf77062-5703-404e-b60c-95b78b2f3f9e/modules/6df7ae49-c61c-4bb2-a23e-6527e69209ec/lessons/601ae704-1035-4287-8b11-e2c2716217ad/concepts/d4aca031-508f-4e0b-b493-e7b706120f81) at the end of the CNN lesson is a solid starting point. You'll have to change the number of classes and possibly the preprocessing, but aside from that it's plug and play!"
   ]
  },
  {
   "cell_type": "markdown",
   "metadata": {
    "deletable": true,
    "editable": true
   },
   "source": [
    "### Pre-process the Data Set (normalization, grayscale, etc.)"
   ]
  },
  {
   "cell_type": "markdown",
   "metadata": {
    "deletable": true,
    "editable": true
   },
   "source": [
    "Use the code cell (or multiple code cells, if necessary) to implement the first step of your project."
   ]
  },
  {
   "cell_type": "code",
   "execution_count": 159,
   "metadata": {
    "collapsed": false,
    "deletable": true,
    "editable": true
   },
   "outputs": [],
   "source": [
    "### Preprocess the data here. Preprocessing steps could include normalization, converting to grayscale, etc.\n",
    "### Feel free to use as many code cells as needed.\n",
    "\n",
    "from sklearn.utils import shuffle\n",
    "from matplotlib import colors\n",
    "\n",
    "norm = colors.Normalize(-1.0,1.0)\n",
    "\n",
    "X_train_norm = norm(X_train)\n",
    "X_valid_norm = norm(X_valid)\n",
    "X_test_norm = norm(X_test)\n",
    "\n",
    "#X_train_norm = (X_train)/255\n",
    "#X_valid_norm = (X_valid)/255\n",
    "#X_test_norm = (X_test)/255\n",
    "\n",
    "#X_train_norm = (X_train - 127)/127"
   ]
  },
  {
   "cell_type": "code",
   "execution_count": 160,
   "metadata": {
    "collapsed": false,
    "deletable": true,
    "editable": true
   },
   "outputs": [
    {
     "name": "stdout",
     "output_type": "stream",
     "text": [
      "Normalized image\n"
     ]
    },
    {
     "data": {
      "image/png": "[encoded data removed]",
      "text/plain": [
       "<matplotlib.figure.Figure at 0x7fa7be99e208>"
      ]
     },
     "metadata": {},
     "output_type": "display_data"
    }
   ],
   "source": [
    "# Note, these images will appear very faint and strange, since all of the pixel values will be between 0 and 1\n",
    "# Multiplying the image by 255 before plotting will show the original image normally\n",
    "plt.figure()\n",
    "plt.imshow(X_train_norm[rint])\n",
    "print(\"Normalized image\")"
   ]
  },
  {
   "cell_type": "code",
   "execution_count": 161,
   "metadata": {
    "collapsed": true,
    "deletable": true,
    "editable": true
   },
   "outputs": [],
   "source": [
    "# Shuffle training data\n",
    "X_train, y_train = shuffle(X_train,y_train)"
   ]
  },
  {
   "cell_type": "markdown",
   "metadata": {
    "deletable": true,
    "editable": true
   },
   "source": [
    "### Model Architecture"
   ]
  },
  {
   "cell_type": "code",
   "execution_count": 217,
   "metadata": {
    "collapsed": true,
    "deletable": true,
    "editable": true
   },
   "outputs": [],
   "source": [
    "import tensorflow as tf\n",
    "\n",
    "EPOCHS = 150\n",
    "BATCH_SIZE = 256"
   ]
  },
  {
   "cell_type": "code",
   "execution_count": 225,
   "metadata": {
    "collapsed": true,
    "deletable": true,
    "editable": true
   },
   "outputs": [],
   "source": [
    "### Define your architecture here.\n",
    "### Feel free to use as many code cells as needed.\n",
    "\n",
    "from tensorflow.contrib.layers import flatten\n",
    "\n",
    "def LeNet(x, dropout):    \n",
    "    # Arguments used for tf.truncated_normal, randomly defines variables for the weights and biases for each layer\n",
    "    mu = 0\n",
    "    sigma = 0.05\n",
    "    # Testing first conv layer output of 8\n",
    "    weights = [tf.Variable(tf.truncated_normal(([5, 5, 3, 6]), mu, sigma), name='weights0'),\n",
    "               tf.Variable(tf.truncated_normal(([5, 5, 6, 16]), mu, sigma), name='weights1'),\n",
    "               tf.Variable(tf.truncated_normal((400, 120), mu, sigma), name='weights2'),\n",
    "               tf.Variable(tf.truncated_normal((120, 84), mu, sigma), name='weights3'),\n",
    "               tf.Variable(tf.truncated_normal((84, 43), mu, sigma), name='weights4')]\n",
    "    bias = [tf.Variable(tf.truncated_normal(([6]), mu, sigma), name='bias0'),\n",
    "            tf.Variable(tf.truncated_normal(([16]), mu, sigma), name='bias1'),\n",
    "            tf.Variable(tf.truncated_normal(([120]), mu, sigma), name='bias2'),\n",
    "            tf.Variable(tf.truncated_normal(([84]), mu, sigma), name='bias3'),\n",
    "            tf.Variable(tf.truncated_normal(([43]), mu, sigma), name='bias4')]\n",
    "    \n",
    "    # TODO: Layer 1: Convolutional. Input = 32x32x1. Output = 28x28x6.\n",
    "    conv1 = tf.nn.conv2d(x, weights[0], strides=[1, 1, 1, 1], padding='VALID')\n",
    "    conv1 = tf.nn.bias_add(conv1, bias[0])\n",
    "    \n",
    "    # TODO: Activation.\n",
    "    conv1 = tf.nn.relu(conv1)\n",
    "    \n",
    "    # TODO: Pooling. Input = 28x28x6. Output = 14x14x6.\n",
    "    conv1 = tf.nn.max_pool(conv1, ksize=[1, 2, 2, 1], strides=[1, 2, 2, 1], padding='SAME')\n",
    "    \n",
    "    # TODO: Layer 2: Convolutional. Output = 10x10x16.\n",
    "    conv2 = tf.nn.conv2d(conv1, weights[1], strides=[1, 1, 1, 1], padding='VALID')\n",
    "    conv2 = tf.nn.bias_add(conv2, bias[1])\n",
    "    \n",
    "    # TODO: Activation.\n",
    "    conv2 = tf.nn.relu(conv2)\n",
    "    \n",
    "    # TODO: Pooling. Input = 10x10x16. Output = 5x5x16.\n",
    "    conv2 = tf.nn.max_pool(conv2, ksize=[1, 2, 2, 1], strides=[1, 2, 2, 1], padding='SAME')\n",
    "    \n",
    "    # TODO: Flatten. Input = 5x5x16. Output = 400.\n",
    "    fc0 = flatten(conv2)\n",
    "    \n",
    "    # TODO: Layer 3: Fully Connected. Input = 400. Output = 120. tested output of 140 and 100. not much improvement\n",
    "    fc1 = tf.add(tf.matmul(fc0, weights[2]),bias[2])\n",
    "    \n",
    "    # TODO: Activation.\n",
    "    fc1 = tf.nn.relu(fc1)\n",
    "    \n",
    "    # another dropout here\n",
    "    fc1 = tf.nn.dropout(fc1, dropout)\n",
    "    \n",
    "    # TODO: Layer 4: Fully Connected. Input = 120. Output = 84.\n",
    "    fc2 = tf.add(tf.matmul(fc1, weights[3]),bias[3])\n",
    "    \n",
    "    # TODO: Activation.\n",
    "    fc2 = tf.nn.relu(fc2)\n",
    "    \n",
    "    # Added dropout!\n",
    "    \n",
    "    fc3 = tf.nn.dropout(fc2, dropout)\n",
    "    \n",
    "    # TODO: Layer 5: Fully Connected. Input = 84. Output = 43.\n",
    "    logits = tf.add(tf.matmul(fc3, weights[4]),bias[4])\n",
    "        \n",
    "    return logits, weights[2], weights[3], weights[4]"
   ]
  },
  {
   "cell_type": "code",
   "execution_count": 226,
   "metadata": {
    "collapsed": false,
    "deletable": true,
    "editable": true
   },
   "outputs": [],
   "source": [
    "x = tf.placeholder(tf.float32, (None, 32, 32, 3))\n",
    "y = tf.placeholder(tf.int32, (None))\n",
    "one_hot_y = tf.one_hot(y,43)"
   ]
  },
  {
   "cell_type": "markdown",
   "metadata": {
    "deletable": true,
    "editable": true
   },
   "source": [
    "### Train, Validate and Test the Model"
   ]
  },
  {
   "cell_type": "markdown",
   "metadata": {
    "deletable": true,
    "editable": true
   },
   "source": [
    "A validation set can be used to assess how well the model is performing. A low accuracy on the training and validation\n",
    "sets imply underfitting. A high accuracy on the training set but low accuracy on the validation set implies overfitting."
   ]
  },
  {
   "cell_type": "code",
   "execution_count": 227,
   "metadata": {
    "collapsed": false,
    "deletable": true,
    "editable": true
   },
   "outputs": [],
   "source": [
    "### Train your model here.\n",
    "### Calculate and report the accuracy on the training and validation set.\n",
    "### Once a final model architecture is selected, \n",
    "### the accuracy on the test set should be calculated and reported as well.\n",
    "### Feel free to use as many code cells as needed.\n",
    "\n",
    "rate = 0.001\n",
    "dropout = 0.65\n",
    "reg_rate = 0.002\n",
    "\n",
    "logits, weight2, weight3, weight4 = LeNet(x, dropout)\n",
    "cross_entropy = tf.nn.softmax_cross_entropy_with_logits(logits, one_hot_y)\n",
    "loss_operation = tf.reduce_mean(cross_entropy)\n",
    "regularizers = tf.nn.l2_loss(weight2) + tf.nn.l2_loss(weight3) + tf.nn.l2_loss(weight4)\n",
    "loss_operation = tf.reduce_mean(loss_operation + reg_rate*regularizers)\n",
    "optimizer = tf.train.AdamOptimizer(learning_rate = rate)\n",
    "training_operation = optimizer.minimize(loss_operation)"
   ]
  },
  {
   "cell_type": "code",
   "execution_count": 228,
   "metadata": {
    "collapsed": false,
    "deletable": true,
    "editable": true
   },
   "outputs": [],
   "source": [
    "#Evaluate model\n",
    "\n",
    "correct_prediction = tf.equal(tf.argmax(logits, 1), tf.argmax(one_hot_y, 1))\n",
    "accuracy_operation = tf.reduce_mean(tf.cast(correct_prediction, tf.float32))\n",
    "saver = tf.train.Saver()\n",
    "\n",
    "def evaluate(X_data, y_data):\n",
    "    num_examples = len(X_data)\n",
    "    total_accuracy = 0\n",
    "    sess = tf.get_default_session()\n",
    "    for offset in range(0, num_examples, BATCH_SIZE):\n",
    "        batch_x, batch_y = X_data[offset:offset + BATCH_SIZE], y_data[offset:offset + BATCH_SIZE]\n",
    "        accuracy = sess.run(accuracy_operation, feed_dict={x: batch_x, y: batch_y})\n",
    "        total_accuracy += (accuracy * len(batch_x))\n",
    "    return total_accuracy / num_examples\n"
   ]
  },
  {
   "cell_type": "code",
   "execution_count": 229,
   "metadata": {
    "collapsed": false,
    "deletable": true,
    "editable": true
   },
   "outputs": [
    {
     "name": "stdout",
     "output_type": "stream",
     "text": [
      "Training...\n",
      "\n",
      "EPOCH 1 ...\n",
      "Training Accuracy = 0.607\n",
      "Validation Accuracy = 0.576\n",
      "\n",
      "EPOCH 2 ...\n",
      "Training Accuracy = 0.772\n",
      "Validation Accuracy = 0.726\n",
      "\n",
      "EPOCH 3 ...\n",
      "Training Accuracy = 0.836\n",
      "Validation Accuracy = 0.780\n",
      "\n",
      "EPOCH 4 ...\n",
      "Training Accuracy = 0.883\n",
      "Validation Accuracy = 0.831\n",
      "\n",
      "EPOCH 5 ...\n",
      "Training Accuracy = 0.902\n",
      "Validation Accuracy = 0.845\n",
      "\n",
      "EPOCH 6 ...\n",
      "Training Accuracy = 0.918\n",
      "Validation Accuracy = 0.866\n",
      "\n",
      "EPOCH 7 ...\n",
      "Training Accuracy = 0.929\n",
      "Validation Accuracy = 0.865\n",
      "\n",
      "EPOCH 8 ...\n",
      "Training Accuracy = 0.942\n",
      "Validation Accuracy = 0.878\n",
      "\n",
      "EPOCH 9 ...\n",
      "Training Accuracy = 0.946\n",
      "Validation Accuracy = 0.893\n",
      "\n",
      "EPOCH 10 ...\n",
      "Training Accuracy = 0.957\n",
      "Validation Accuracy = 0.895\n",
      "\n",
      "EPOCH 11 ...\n",
      "Training Accuracy = 0.955\n",
      "Validation Accuracy = 0.893\n",
      "\n",
      "EPOCH 12 ...\n",
      "Training Accuracy = 0.958\n",
      "Validation Accuracy = 0.897\n",
      "\n",
      "EPOCH 13 ...\n",
      "Training Accuracy = 0.963\n",
      "Validation Accuracy = 0.903\n",
      "\n",
      "EPOCH 14 ...\n",
      "Training Accuracy = 0.963\n",
      "Validation Accuracy = 0.911\n",
      "\n",
      "EPOCH 15 ...\n",
      "Training Accuracy = 0.969\n",
      "Validation Accuracy = 0.917\n",
      "\n",
      "EPOCH 16 ...\n",
      "Training Accuracy = 0.968\n",
      "Validation Accuracy = 0.915\n",
      "\n",
      "EPOCH 17 ...\n",
      "Training Accuracy = 0.971\n",
      "Validation Accuracy = 0.916\n",
      "\n",
      "EPOCH 18 ...\n",
      "Training Accuracy = 0.970\n",
      "Validation Accuracy = 0.924\n",
      "\n",
      "EPOCH 19 ...\n",
      "Training Accuracy = 0.972\n",
      "Validation Accuracy = 0.920\n",
      "\n",
      "EPOCH 20 ...\n",
      "Training Accuracy = 0.972\n",
      "Validation Accuracy = 0.917\n",
      "\n",
      "EPOCH 21 ...\n",
      "Training Accuracy = 0.974\n",
      "Validation Accuracy = 0.920\n",
      "\n",
      "EPOCH 22 ...\n",
      "Training Accuracy = 0.973\n",
      "Validation Accuracy = 0.915\n",
      "\n",
      "EPOCH 23 ...\n",
      "Training Accuracy = 0.967\n",
      "Validation Accuracy = 0.910\n",
      "\n",
      "EPOCH 24 ...\n",
      "Training Accuracy = 0.974\n",
      "Validation Accuracy = 0.918\n",
      "\n",
      "EPOCH 25 ...\n",
      "Training Accuracy = 0.976\n",
      "Validation Accuracy = 0.924\n",
      "\n",
      "EPOCH 26 ...\n",
      "Training Accuracy = 0.978\n",
      "Validation Accuracy = 0.929\n",
      "\n",
      "EPOCH 27 ...\n",
      "Training Accuracy = 0.980\n",
      "Validation Accuracy = 0.934\n",
      "\n",
      "EPOCH 28 ...\n",
      "Training Accuracy = 0.975\n",
      "Validation Accuracy = 0.927\n",
      "\n",
      "EPOCH 29 ...\n",
      "Training Accuracy = 0.983\n",
      "Validation Accuracy = 0.933\n",
      "\n",
      "EPOCH 30 ...\n",
      "Training Accuracy = 0.979\n",
      "Validation Accuracy = 0.932\n",
      "\n",
      "EPOCH 31 ...\n",
      "Training Accuracy = 0.978\n",
      "Validation Accuracy = 0.938\n",
      "\n",
      "EPOCH 32 ...\n",
      "Training Accuracy = 0.979\n",
      "Validation Accuracy = 0.928\n",
      "\n",
      "EPOCH 33 ...\n",
      "Training Accuracy = 0.980\n",
      "Validation Accuracy = 0.928\n",
      "\n",
      "EPOCH 34 ...\n",
      "Training Accuracy = 0.977\n",
      "Validation Accuracy = 0.925\n",
      "\n",
      "EPOCH 35 ...\n",
      "Training Accuracy = 0.982\n",
      "Validation Accuracy = 0.935\n",
      "\n",
      "EPOCH 36 ...\n",
      "Training Accuracy = 0.979\n",
      "Validation Accuracy = 0.929\n",
      "\n",
      "EPOCH 37 ...\n",
      "Training Accuracy = 0.984\n",
      "Validation Accuracy = 0.929\n",
      "\n",
      "EPOCH 38 ...\n",
      "Training Accuracy = 0.979\n",
      "Validation Accuracy = 0.932\n",
      "\n",
      "EPOCH 39 ...\n",
      "Training Accuracy = 0.984\n",
      "Validation Accuracy = 0.937\n",
      "\n",
      "EPOCH 40 ...\n",
      "Training Accuracy = 0.985\n",
      "Validation Accuracy = 0.932\n",
      "\n",
      "EPOCH 41 ...\n",
      "Training Accuracy = 0.984\n",
      "Validation Accuracy = 0.938\n",
      "\n",
      "EPOCH 42 ...\n",
      "Training Accuracy = 0.983\n",
      "Validation Accuracy = 0.940\n",
      "\n",
      "EPOCH 43 ...\n",
      "Training Accuracy = 0.983\n",
      "Validation Accuracy = 0.941\n",
      "\n",
      "EPOCH 44 ...\n",
      "Training Accuracy = 0.985\n",
      "Validation Accuracy = 0.938\n",
      "\n",
      "EPOCH 45 ...\n",
      "Training Accuracy = 0.983\n",
      "Validation Accuracy = 0.938\n",
      "\n",
      "EPOCH 46 ...\n",
      "Training Accuracy = 0.984\n",
      "Validation Accuracy = 0.937\n",
      "\n",
      "EPOCH 47 ...\n",
      "Training Accuracy = 0.985\n",
      "Validation Accuracy = 0.940\n",
      "\n",
      "EPOCH 48 ...\n",
      "Training Accuracy = 0.982\n",
      "Validation Accuracy = 0.929\n",
      "\n",
      "EPOCH 49 ...\n",
      "Training Accuracy = 0.984\n",
      "Validation Accuracy = 0.934\n",
      "\n",
      "EPOCH 50 ...\n",
      "Training Accuracy = 0.986\n",
      "Validation Accuracy = 0.945\n",
      "\n",
      "EPOCH 51 ...\n",
      "Training Accuracy = 0.985\n",
      "Validation Accuracy = 0.940\n",
      "\n",
      "EPOCH 52 ...\n",
      "Training Accuracy = 0.985\n",
      "Validation Accuracy = 0.933\n",
      "\n",
      "EPOCH 53 ...\n",
      "Training Accuracy = 0.983\n",
      "Validation Accuracy = 0.934\n",
      "\n",
      "EPOCH 54 ...\n",
      "Training Accuracy = 0.983\n",
      "Validation Accuracy = 0.943\n",
      "\n",
      "EPOCH 55 ...\n",
      "Training Accuracy = 0.984\n",
      "Validation Accuracy = 0.939\n",
      "\n",
      "EPOCH 56 ...\n",
      "Training Accuracy = 0.986\n",
      "Validation Accuracy = 0.944\n",
      "\n",
      "EPOCH 57 ...\n",
      "Training Accuracy = 0.986\n",
      "Validation Accuracy = 0.942\n",
      "\n",
      "EPOCH 58 ...\n",
      "Training Accuracy = 0.987\n",
      "Validation Accuracy = 0.946\n",
      "\n",
      "EPOCH 59 ...\n",
      "Training Accuracy = 0.987\n",
      "Validation Accuracy = 0.943\n",
      "\n",
      "EPOCH 60 ...\n",
      "Training Accuracy = 0.984\n",
      "Validation Accuracy = 0.943\n",
      "\n",
      "EPOCH 61 ...\n",
      "Training Accuracy = 0.985\n",
      "Validation Accuracy = 0.940\n",
      "\n",
      "EPOCH 62 ...\n",
      "Training Accuracy = 0.986\n",
      "Validation Accuracy = 0.938\n",
      "\n",
      "EPOCH 63 ...\n",
      "Training Accuracy = 0.983\n",
      "Validation Accuracy = 0.934\n",
      "\n",
      "EPOCH 64 ...\n",
      "Training Accuracy = 0.987\n",
      "Validation Accuracy = 0.942\n",
      "\n",
      "EPOCH 65 ...\n",
      "Training Accuracy = 0.987\n",
      "Validation Accuracy = 0.951\n",
      "\n",
      "EPOCH 66 ...\n",
      "Training Accuracy = 0.989\n",
      "Validation Accuracy = 0.946\n",
      "\n",
      "EPOCH 67 ...\n",
      "Training Accuracy = 0.985\n",
      "Validation Accuracy = 0.943\n",
      "\n",
      "EPOCH 68 ...\n",
      "Training Accuracy = 0.986\n",
      "Validation Accuracy = 0.942\n",
      "\n",
      "EPOCH 69 ...\n",
      "Training Accuracy = 0.987\n",
      "Validation Accuracy = 0.946\n",
      "\n",
      "EPOCH 70 ...\n",
      "Training Accuracy = 0.988\n",
      "Validation Accuracy = 0.949\n",
      "\n",
      "EPOCH 71 ...\n",
      "Training Accuracy = 0.987\n",
      "Validation Accuracy = 0.948\n",
      "\n",
      "EPOCH 72 ...\n",
      "Training Accuracy = 0.988\n",
      "Validation Accuracy = 0.948\n",
      "\n",
      "EPOCH 73 ...\n",
      "Training Accuracy = 0.987\n",
      "Validation Accuracy = 0.943\n",
      "\n",
      "EPOCH 74 ...\n",
      "Training Accuracy = 0.987\n",
      "Validation Accuracy = 0.951\n",
      "\n",
      "EPOCH 75 ...\n",
      "Training Accuracy = 0.988\n",
      "Validation Accuracy = 0.950\n",
      "\n",
      "EPOCH 76 ...\n",
      "Training Accuracy = 0.987\n",
      "Validation Accuracy = 0.956\n",
      "\n",
      "EPOCH 77 ...\n",
      "Training Accuracy = 0.988\n",
      "Validation Accuracy = 0.951\n",
      "\n",
      "EPOCH 78 ...\n",
      "Training Accuracy = 0.985\n",
      "Validation Accuracy = 0.950\n",
      "\n",
      "EPOCH 79 ...\n",
      "Training Accuracy = 0.988\n",
      "Validation Accuracy = 0.951\n",
      "\n",
      "EPOCH 80 ...\n",
      "Training Accuracy = 0.983\n",
      "Validation Accuracy = 0.942\n",
      "\n",
      "EPOCH 81 ...\n",
      "Training Accuracy = 0.986\n",
      "Validation Accuracy = 0.945\n",
      "\n",
      "EPOCH 82 ...\n",
      "Training Accuracy = 0.988\n",
      "Validation Accuracy = 0.948\n",
      "\n",
      "EPOCH 83 ...\n",
      "Training Accuracy = 0.987\n",
      "Validation Accuracy = 0.942\n",
      "\n",
      "EPOCH 84 ...\n",
      "Training Accuracy = 0.986\n",
      "Validation Accuracy = 0.946\n",
      "\n",
      "EPOCH 85 ...\n",
      "Training Accuracy = 0.986\n",
      "Validation Accuracy = 0.947\n",
      "\n",
      "EPOCH 86 ...\n",
      "Training Accuracy = 0.989\n",
      "Validation Accuracy = 0.957\n",
      "\n",
      "EPOCH 87 ...\n",
      "Training Accuracy = 0.988\n",
      "Validation Accuracy = 0.953\n",
      "\n",
      "EPOCH 88 ...\n",
      "Training Accuracy = 0.986\n",
      "Validation Accuracy = 0.950\n",
      "\n",
      "EPOCH 89 ...\n",
      "Training Accuracy = 0.989\n",
      "Validation Accuracy = 0.947\n",
      "\n",
      "EPOCH 90 ...\n",
      "Training Accuracy = 0.987\n",
      "Validation Accuracy = 0.954\n",
      "\n",
      "EPOCH 91 ...\n",
      "Training Accuracy = 0.989\n",
      "Validation Accuracy = 0.945\n",
      "\n",
      "EPOCH 92 ...\n",
      "Training Accuracy = 0.989\n",
      "Validation Accuracy = 0.952\n",
      "\n",
      "EPOCH 93 ...\n",
      "Training Accuracy = 0.990\n",
      "Validation Accuracy = 0.947\n",
      "\n",
      "EPOCH 94 ...\n",
      "Training Accuracy = 0.987\n",
      "Validation Accuracy = 0.957\n",
      "\n",
      "EPOCH 95 ...\n",
      "Training Accuracy = 0.986\n",
      "Validation Accuracy = 0.947\n",
      "\n",
      "EPOCH 96 ...\n",
      "Training Accuracy = 0.989\n",
      "Validation Accuracy = 0.946\n",
      "\n",
      "EPOCH 97 ...\n",
      "Training Accuracy = 0.989\n",
      "Validation Accuracy = 0.954\n",
      "\n",
      "EPOCH 98 ...\n",
      "Training Accuracy = 0.988\n",
      "Validation Accuracy = 0.953\n",
      "\n",
      "EPOCH 99 ...\n",
      "Training Accuracy = 0.990\n",
      "Validation Accuracy = 0.952\n",
      "\n",
      "EPOCH 100 ...\n",
      "Training Accuracy = 0.984\n",
      "Validation Accuracy = 0.943\n",
      "\n",
      "EPOCH 101 ...\n",
      "Training Accuracy = 0.987\n",
      "Validation Accuracy = 0.952\n",
      "\n",
      "EPOCH 102 ...\n",
      "Training Accuracy = 0.991\n",
      "Validation Accuracy = 0.957\n",
      "\n",
      "EPOCH 103 ...\n",
      "Training Accuracy = 0.991\n",
      "Validation Accuracy = 0.959\n",
      "\n",
      "EPOCH 104 ...\n",
      "Training Accuracy = 0.989\n",
      "Validation Accuracy = 0.946\n",
      "\n",
      "EPOCH 105 ...\n",
      "Training Accuracy = 0.988\n",
      "Validation Accuracy = 0.946\n",
      "\n",
      "EPOCH 106 ...\n",
      "Training Accuracy = 0.986\n",
      "Validation Accuracy = 0.948\n",
      "\n",
      "EPOCH 107 ...\n",
      "Training Accuracy = 0.989\n",
      "Validation Accuracy = 0.946\n",
      "\n",
      "EPOCH 108 ...\n",
      "Training Accuracy = 0.989\n",
      "Validation Accuracy = 0.952\n",
      "\n",
      "EPOCH 109 ...\n",
      "Training Accuracy = 0.989\n",
      "Validation Accuracy = 0.950\n",
      "\n",
      "EPOCH 110 ...\n",
      "Training Accuracy = 0.990\n",
      "Validation Accuracy = 0.944\n",
      "\n",
      "EPOCH 111 ...\n",
      "Training Accuracy = 0.988\n",
      "Validation Accuracy = 0.946\n",
      "\n",
      "EPOCH 112 ...\n",
      "Training Accuracy = 0.991\n",
      "Validation Accuracy = 0.954\n",
      "\n",
      "EPOCH 113 ...\n",
      "Training Accuracy = 0.991\n",
      "Validation Accuracy = 0.956\n",
      "\n",
      "EPOCH 114 ...\n",
      "Training Accuracy = 0.989\n",
      "Validation Accuracy = 0.956\n",
      "\n",
      "EPOCH 115 ...\n",
      "Training Accuracy = 0.990\n",
      "Validation Accuracy = 0.946\n",
      "\n",
      "EPOCH 116 ...\n",
      "Training Accuracy = 0.989\n",
      "Validation Accuracy = 0.954\n",
      "\n",
      "EPOCH 117 ...\n",
      "Training Accuracy = 0.990\n",
      "Validation Accuracy = 0.951\n",
      "\n",
      "EPOCH 118 ...\n",
      "Training Accuracy = 0.991\n",
      "Validation Accuracy = 0.954\n",
      "\n",
      "EPOCH 119 ...\n",
      "Training Accuracy = 0.989\n",
      "Validation Accuracy = 0.948\n",
      "\n",
      "EPOCH 120 ...\n",
      "Training Accuracy = 0.991\n",
      "Validation Accuracy = 0.959\n",
      "\n",
      "EPOCH 121 ...\n",
      "Training Accuracy = 0.990\n",
      "Validation Accuracy = 0.956\n",
      "\n",
      "EPOCH 122 ...\n",
      "Training Accuracy = 0.991\n",
      "Validation Accuracy = 0.957\n",
      "\n",
      "EPOCH 123 ...\n",
      "Training Accuracy = 0.989\n",
      "Validation Accuracy = 0.949\n",
      "\n",
      "EPOCH 124 ...\n",
      "Training Accuracy = 0.991\n",
      "Validation Accuracy = 0.957\n",
      "\n",
      "EPOCH 125 ...\n",
      "Training Accuracy = 0.989\n",
      "Validation Accuracy = 0.952\n",
      "\n",
      "EPOCH 126 ...\n",
      "Training Accuracy = 0.990\n",
      "Validation Accuracy = 0.949\n",
      "\n",
      "EPOCH 127 ...\n",
      "Training Accuracy = 0.990\n",
      "Validation Accuracy = 0.946\n",
      "\n",
      "EPOCH 128 ...\n",
      "Training Accuracy = 0.987\n",
      "Validation Accuracy = 0.945\n",
      "\n",
      "EPOCH 129 ...\n",
      "Training Accuracy = 0.989\n",
      "Validation Accuracy = 0.951\n",
      "\n",
      "EPOCH 130 ...\n",
      "Training Accuracy = 0.990\n",
      "Validation Accuracy = 0.949\n",
      "\n",
      "EPOCH 131 ...\n",
      "Training Accuracy = 0.990\n",
      "Validation Accuracy = 0.946\n",
      "\n",
      "EPOCH 132 ...\n",
      "Training Accuracy = 0.990\n",
      "Validation Accuracy = 0.953\n",
      "\n",
      "EPOCH 133 ...\n",
      "Training Accuracy = 0.978\n",
      "Validation Accuracy = 0.935\n",
      "\n",
      "EPOCH 134 ...\n",
      "Training Accuracy = 0.990\n",
      "Validation Accuracy = 0.958\n",
      "\n",
      "EPOCH 135 ...\n",
      "Training Accuracy = 0.992\n",
      "Validation Accuracy = 0.959\n",
      "\n",
      "EPOCH 136 ...\n",
      "Training Accuracy = 0.989\n",
      "Validation Accuracy = 0.944\n",
      "\n",
      "EPOCH 137 ...\n",
      "Training Accuracy = 0.988\n",
      "Validation Accuracy = 0.954\n",
      "\n",
      "EPOCH 138 ...\n",
      "Training Accuracy = 0.990\n",
      "Validation Accuracy = 0.952\n",
      "\n",
      "EPOCH 139 ...\n",
      "Training Accuracy = 0.990\n",
      "Validation Accuracy = 0.957\n",
      "\n",
      "EPOCH 140 ...\n",
      "Training Accuracy = 0.991\n",
      "Validation Accuracy = 0.954\n",
      "\n",
      "EPOCH 141 ...\n",
      "Training Accuracy = 0.990\n",
      "Validation Accuracy = 0.946\n",
      "\n",
      "EPOCH 142 ...\n",
      "Training Accuracy = 0.991\n",
      "Validation Accuracy = 0.957\n",
      "\n",
      "EPOCH 143 ...\n",
      "Training Accuracy = 0.992\n",
      "Validation Accuracy = 0.958\n",
      "\n",
      "EPOCH 144 ...\n",
      "Training Accuracy = 0.990\n",
      "Validation Accuracy = 0.954\n",
      "\n",
      "EPOCH 145 ...\n",
      "Training Accuracy = 0.991\n",
      "Validation Accuracy = 0.956\n",
      "\n",
      "EPOCH 146 ...\n",
      "Training Accuracy = 0.991\n",
      "Validation Accuracy = 0.953\n",
      "\n",
      "EPOCH 147 ...\n",
      "Training Accuracy = 0.991\n",
      "Validation Accuracy = 0.958\n",
      "\n",
      "EPOCH 148 ...\n",
      "Training Accuracy = 0.991\n",
      "Validation Accuracy = 0.948\n",
      "\n",
      "EPOCH 149 ...\n",
      "Training Accuracy = 0.989\n",
      "Validation Accuracy = 0.953\n",
      "\n",
      "EPOCH 150 ...\n",
      "Training Accuracy = 0.991\n",
      "Validation Accuracy = 0.954\n",
      "\n",
      "Model saved\n"
     ]
    },
    {
     "data": {
      "image/png": "[encoded data removed]",
      "text/plain": [
       "<matplotlib.figure.Figure at 0x7fa7c75f8c88>"
      ]
     },
     "metadata": {},
     "output_type": "display_data"
    },
    {
     "ename": "NameError",
     "evalue": "name 'weights' is not defined",
     "output_type": "error",
     "traceback": [
      "\u001b[0;31m---------------------------------------------------------------------------\u001b[0m",
      "\u001b[0;31mNameError\u001b[0m                                 Traceback (most recent call last)",
      "\u001b[0;32m<ipython-input-229-0343391d48c9>\u001b[0m in \u001b[0;36m<module>\u001b[0;34m()\u001b[0m\n\u001b[1;32m     28\u001b[0m     \u001b[0mplt\u001b[0m\u001b[0;34m.\u001b[0m\u001b[0mplot\u001b[0m\u001b[0;34m(\u001b[0m\u001b[0mvalid_accuracy\u001b[0m\u001b[0;34m,\u001b[0m \u001b[0mcolor\u001b[0m\u001b[0;34m=\u001b[0m\u001b[0;34m'red'\u001b[0m\u001b[0;34m)\u001b[0m\u001b[0;34m\u001b[0m\u001b[0m\n\u001b[1;32m     29\u001b[0m     \u001b[0mplt\u001b[0m\u001b[0;34m.\u001b[0m\u001b[0mshow\u001b[0m\u001b[0;34m(\u001b[0m\u001b[0;34m)\u001b[0m\u001b[0;34m\u001b[0m\u001b[0m\n\u001b[0;32m---> 30\u001b[0;31m     \u001b[0mprint\u001b[0m\u001b[0;34m(\u001b[0m\u001b[0;34m\"Save weights: {}\"\u001b[0m\u001b[0;34m.\u001b[0m\u001b[0mformat\u001b[0m\u001b[0;34m(\u001b[0m\u001b[0mweights\u001b[0m\u001b[0;34m.\u001b[0m\u001b[0mname\u001b[0m\u001b[0;34m)\u001b[0m\u001b[0;34m)\u001b[0m\u001b[0;34m\u001b[0m\u001b[0m\n\u001b[0m\u001b[1;32m     31\u001b[0m     \u001b[0mprint\u001b[0m\u001b[0;34m(\u001b[0m\u001b[0;34m\"Save biases: {}\"\u001b[0m\u001b[0;34m.\u001b[0m\u001b[0mformat\u001b[0m\u001b[0;34m(\u001b[0m\u001b[0mbias\u001b[0m\u001b[0;34m.\u001b[0m\u001b[0mname\u001b[0m\u001b[0;34m)\u001b[0m\u001b[0;34m)\u001b[0m\u001b[0;34m\u001b[0m\u001b[0m\n",
      "\u001b[0;31mNameError\u001b[0m: name 'weights' is not defined"
     ]
    }
   ],
   "source": [
    "with tf.Session() as sess:\n",
    "    sess.run(tf.global_variables_initializer())\n",
    "    num_examples = len(X_train)\n",
    "    train_accuracy = []\n",
    "    valid_accuracy = []\n",
    "    print(\"Training...\")\n",
    "    print()\n",
    "    for i in range(EPOCHS):\n",
    "        if i==30:\n",
    "            rate = 0.0001\n",
    "        if i==100:\n",
    "            rate = 0.00005\n",
    "        X_train, y_train = shuffle(X_train, y_train)\n",
    "        for offset in range(0, num_examples, BATCH_SIZE):\n",
    "            end = offset + BATCH_SIZE\n",
    "            batch_x, batch_y = X_train[offset:end], y_train[offset:end]\n",
    "            sess.run(training_operation,feed_dict={x: batch_x, y: batch_y})\n",
    "        train_accuracy.append(evaluate(X_train, y_train))\n",
    "        valid_accuracy.append(evaluate(X_valid, y_valid))\n",
    "        print(\"EPOCH {} ...\".format(i + 1))\n",
    "        print(\"Training Accuracy = {:.3f}\".format(train_accuracy[i]))\n",
    "        print(\"Validation Accuracy = {:.3f}\".format(valid_accuracy[i]))\n",
    "        print()\n",
    "    \n",
    "    saver.save(sess, './lenet')\n",
    "    print(\"Model saved\")\n",
    "    plt.plot(train_accuracy, color='blue')\n",
    "    plt.plot(valid_accuracy, color='red')\n",
    "    plt.show()\n"
   ]
  },
  {
   "cell_type": "code",
   "execution_count": 230,
   "metadata": {
    "collapsed": false
   },
   "outputs": [
    {
     "name": "stdout",
     "output_type": "stream",
     "text": [
      "Test set accuracy: 0.927\n"
     ]
    }
   ],
   "source": [
    "with tf.Session() as sess:\n",
    "    saver.restore(sess, \"./lenet\")\n",
    "\n",
    "    test_accuracy = evaluate(X_test,y_test)\n",
    "    print('Test set accuracy: {:.3f}'.format(test_accuracy))"
   ]
  },
  {
   "cell_type": "markdown",
   "metadata": {
    "deletable": true,
    "editable": true
   },
   "source": [
    "---\n",
    "\n",
    "## Step 3: Test a Model on New Images\n",
    "\n",
    "To give yourself more insight into how your model is working, download at least five pictures of German traffic signs from the web and use your model to predict the traffic sign type.\n",
    "\n",
    "You may find `signnames.csv` useful as it contains mappings from the class id (integer) to the actual sign name."
   ]
  },
  {
   "cell_type": "markdown",
   "metadata": {
    "deletable": true,
    "editable": true
   },
   "source": [
    "### Load and Output the Images"
   ]
  },
  {
   "cell_type": "code",
   "execution_count": null,
   "metadata": {
    "collapsed": false,
    "deletable": true,
    "editable": true
   },
   "outputs": [],
   "source": [
    "### Load the images and plot them here.\n",
    "### Feel free to use as many code cells as needed.\n",
    "\n",
    "new_imgs = os.listdir(\"./internetTrafficSigns/\")\n",
    "print(\"New test images acquired from internet and cropped/scaled for testing: \")\n",
    "y_img = [line.rstrip(';\\n') for line in open('internetTraff.csv')]\n",
    "x_img = []\n",
    "for i in range(len(new_imgs)):\n",
    "    x_img.append(plt.imread(\"./internetTrafficSigns/\" + new_imgs[i]))\n",
    "for i in range(len(x_img)):\n",
    "    fig2 = plt.subplot(3,4,i + 1)\n",
    "    plt.imshow(x_img[i])\n",
    "    plt.text(13,37,i)\n",
    "    fig2.axes.get_yaxis().set_visible(False)\n",
    "    fig2.axes.get_xaxis().set_visible(False)"
   ]
  },
  {
   "cell_type": "markdown",
   "metadata": {
    "deletable": true,
    "editable": true
   },
   "source": [
    "### Predict the Sign Type for Each Image"
   ]
  },
  {
   "cell_type": "code",
   "execution_count": null,
   "metadata": {
    "collapsed": false,
    "deletable": true,
    "editable": true
   },
   "outputs": [],
   "source": [
    "### Run the predictions here and use the model to output the prediction for each image.\n",
    "### Make sure to pre-process the images with the same pre-processing pipeline used earlier.\n",
    "### Feel free to use as many code cells as needed.\n",
    "\n",
    "# Preprocess:\n",
    "\n",
    "x_img_norm = norm(x_img)"
   ]
  },
  {
   "cell_type": "code",
   "execution_count": null,
   "metadata": {
    "collapsed": true,
    "deletable": true,
    "editable": true
   },
   "outputs": [],
   "source": [
    "# Predict sign types in new images\n",
    "\n"
   ]
  },
  {
   "cell_type": "markdown",
   "metadata": {
    "deletable": true,
    "editable": true
   },
   "source": [
    "### Analyze Performance"
   ]
  },
  {
   "cell_type": "code",
   "execution_count": null,
   "metadata": {
    "collapsed": true,
    "deletable": true,
    "editable": true
   },
   "outputs": [],
   "source": [
    "### Calculate the accuracy for these 5 new images. \n",
    "### For example, if the model predicted 1 out of 5 signs correctly, it's 20% accurate on these new images."
   ]
  },
  {
   "cell_type": "markdown",
   "metadata": {
    "deletable": true,
    "editable": true
   },
   "source": [
    "### Output Top 5 Softmax Probabilities For Each Image Found on the Web"
   ]
  },
  {
   "cell_type": "markdown",
   "metadata": {
    "deletable": true,
    "editable": true
   },
   "source": [
    "For each of the new images, print out the model's softmax probabilities to show the **certainty** of the model's predictions (limit the output to the top 5 probabilities for each image). [`tf.nn.top_k`](https://www.tensorflow.org/versions/r0.12/api_docs/python/nn.html#top_k) could prove helpful here. \n",
    "\n",
    "The example below demonstrates how tf.nn.top_k can be used to find the top k predictions for each image.\n",
    "\n",
    "`tf.nn.top_k` will return the values and indices (class ids) of the top k predictions. So if k=3, for each sign, it'll return the 3 largest probabilities (out of a possible 43) and the correspoding class ids.\n",
    "\n",
    "Take this numpy array as an example. The values in the array represent predictions. The array contains softmax probabilities for five candidate images with six possible classes. `tk.nn.top_k` is used to choose the three classes with the highest probability:\n",
    "\n",
    "```\n",
    "# (5, 6) array\n",
    "a = np.array([[ 0.24879643,  0.07032244,  0.12641572,  0.34763842,  0.07893497,\n",
    "         0.12789202],\n",
    "       [ 0.28086119,  0.27569815,  0.08594638,  0.0178669 ,  0.18063401,\n",
    "         0.15899337],\n",
    "       [ 0.26076848,  0.23664738,  0.08020603,  0.07001922,  0.1134371 ,\n",
    "         0.23892179],\n",
    "       [ 0.11943333,  0.29198961,  0.02605103,  0.26234032,  0.1351348 ,\n",
    "         0.16505091],\n",
    "       [ 0.09561176,  0.34396535,  0.0643941 ,  0.16240774,  0.24206137,\n",
    "         0.09155967]])\n",
    "```\n",
    "\n",
    "Running it through `sess.run(tf.nn.top_k(tf.constant(a), k=3))` produces:\n",
    "\n",
    "```\n",
    "TopKV2(values=array([[ 0.34763842,  0.24879643,  0.12789202],\n",
    "       [ 0.28086119,  0.27569815,  0.18063401],\n",
    "       [ 0.26076848,  0.23892179,  0.23664738],\n",
    "       [ 0.29198961,  0.26234032,  0.16505091],\n",
    "       [ 0.34396535,  0.24206137,  0.16240774]]), indices=array([[3, 0, 5],\n",
    "       [0, 1, 4],\n",
    "       [0, 5, 1],\n",
    "       [1, 3, 5],\n",
    "       [1, 4, 3]], dtype=int32))\n",
    "```\n",
    "\n",
    "Looking just at the first row we get `[ 0.34763842,  0.24879643,  0.12789202]`, you can confirm these are the 3 largest probabilities in `a`. You'll also notice `[3, 0, 5]` are the corresponding indices."
   ]
  },
  {
   "cell_type": "code",
   "execution_count": null,
   "metadata": {
    "collapsed": true,
    "deletable": true,
    "editable": true
   },
   "outputs": [],
   "source": [
    "### Print out the top five softmax probabilities for the predictions on the German traffic sign images found on the web. \n",
    "### Feel free to use as many code cells as needed."
   ]
  },
  {
   "cell_type": "markdown",
   "metadata": {
    "deletable": true,
    "editable": true
   },
   "source": [
    "---\n",
    "\n",
    "## Step 4: Visualize the Neural Network's State with Test Images\n",
    "\n",
    " This Section is not required to complete but acts as an additional excersise for understaning the output of a neural network's weights. While neural networks can be a great learning device they are often referred to as a black box. We can understand what the weights of a neural network look like better by plotting their feature maps. After successfully training your neural network you can see what it's feature maps look like by plotting the output of the network's weight layers in response to a test stimuli image. From these plotted feature maps, it's possible to see what characteristics of an image the network finds interesting. For a sign, maybe the inner network feature maps react with high activation to the sign's boundary outline or to the contrast in the sign's painted symbol.\n",
    "\n",
    " Provided for you below is the function code that allows you to get the visualization output of any tensorflow weight layer you want. The inputs to the function should be a stimuli image, one used during training or a new one you provided, and then the tensorflow variable name that represents the layer's state during the training process, for instance if you wanted to see what the [LeNet lab's](https://classroom.udacity.com/nanodegrees/nd013/parts/fbf77062-5703-404e-b60c-95b78b2f3f9e/modules/6df7ae49-c61c-4bb2-a23e-6527e69209ec/lessons/601ae704-1035-4287-8b11-e2c2716217ad/concepts/d4aca031-508f-4e0b-b493-e7b706120f81) feature maps looked like for it's second convolutional layer you could enter conv2 as the tf_activation variable.\n",
    "\n",
    "For an example of what feature map outputs look like, check out NVIDIA's results in their paper [End-to-End Deep Learning for Self-Driving Cars](https://devblogs.nvidia.com/parallelforall/deep-learning-self-driving-cars/) in the section Visualization of internal CNN State. NVIDIA was able to show that their network's inner weights had high activations to road boundary lines by comparing feature maps from an image with a clear path to one without. Try experimenting with a similar test to show that your trained network's weights are looking for interesting features, whether it's looking at differences in feature maps from images with or without a sign, or even what feature maps look like in a trained network vs a completely untrained one on the same sign image.\n",
    "\n",
    "<figure>\n",
    " <img src=\"visualize_cnn.png\" width=\"380\" alt=\"Combined Image\" />\n",
    " <figcaption>\n",
    " <p></p> \n",
    " <p style=\"text-align: center;\"> Your output should look something like this (above)</p> \n",
    " </figcaption>\n",
    "</figure>\n",
    " <p></p> \n"
   ]
  },
  {
   "cell_type": "code",
   "execution_count": null,
   "metadata": {
    "collapsed": true,
    "deletable": true,
    "editable": true
   },
   "outputs": [],
   "source": [
    "### Visualize your network's feature maps here.\n",
    "### Feel free to use as many code cells as needed.\n",
    "\n",
    "# image_input: the test image being fed into the network to produce the feature maps\n",
    "# tf_activation: should be a tf variable name used during your training procedure that represents the calculated state of a specific weight layer\n",
    "# activation_min/max: can be used to view the activation contrast in more detail, by default matplot sets min and max to the actual min and max values of the output\n",
    "# plt_num: used to plot out multiple different weight feature map sets on the same block, just extend the plt number for each new feature map entry\n",
    "\n",
    "def outputFeatureMap(image_input, tf_activation, activation_min=-1, activation_max=-1 ,plt_num=1):\n",
    "    # Here make sure to preprocess your image_input in a way your network expects\n",
    "    # with size, normalization, ect if needed\n",
    "    # image_input =\n",
    "    # Note: x should be the same name as your network's tensorflow data placeholder variable\n",
    "    # If you get an error tf_activation is not defined it maybe having trouble accessing the variable from inside a function\n",
    "    activation = tf_activation.eval(session=sess,feed_dict={x : image_input})\n",
    "    featuremaps = activation.shape[3]\n",
    "    plt.figure(plt_num, figsize=(15,15))\n",
    "    for featuremap in range(featuremaps):\n",
    "        plt.subplot(6,8, featuremap+1) # sets the number of feature maps to show on each row and column\n",
    "        plt.title('FeatureMap ' + str(featuremap)) # displays the feature map number\n",
    "        if activation_min != -1 & activation_max != -1:\n",
    "            plt.imshow(activation[0,:,:, featuremap], interpolation=\"nearest\", vmin =activation_min, vmax=activation_max, cmap=\"gray\")\n",
    "        elif activation_max != -1:\n",
    "            plt.imshow(activation[0,:,:, featuremap], interpolation=\"nearest\", vmax=activation_max, cmap=\"gray\")\n",
    "        elif activation_min !=-1:\n",
    "            plt.imshow(activation[0,:,:, featuremap], interpolation=\"nearest\", vmin=activation_min, cmap=\"gray\")\n",
    "        else:\n",
    "            plt.imshow(activation[0,:,:, featuremap], interpolation=\"nearest\", cmap=\"gray\")"
   ]
  },
  {
   "cell_type": "markdown",
   "metadata": {
    "deletable": true,
    "editable": true
   },
   "source": [
    "### Question 9\n",
    "\n",
    "Discuss how you used the visual output of your trained network's feature maps to show that it had learned to look for interesting characteristics in traffic sign images\n"
   ]
  },
  {
   "cell_type": "markdown",
   "metadata": {
    "deletable": true,
    "editable": true
   },
   "source": [
    "**Answer:**"
   ]
  },
  {
   "cell_type": "markdown",
   "metadata": {
    "deletable": true,
    "editable": true
   },
   "source": [
    "> **Note**: Once you have completed all of the code implementations and successfully answered each question above, you may finalize your work by exporting the iPython Notebook as an HTML document. You can do this by using the menu above and navigating to  \\n\",\n",
    "    \"**File -> Download as -> HTML (.html)**. Include the finished document along with this notebook as your submission."
   ]
  },
  {
   "cell_type": "markdown",
   "metadata": {
    "deletable": true,
    "editable": true
   },
   "source": [
    "### Project Writeup\n",
    "\n",
    "Once you have completed the code implementation, document your results in a project writeup using this [template](https://github.com/udacity/CarND-Traffic-Sign-Classifier-Project/blob/master/writeup_template.md) as a guide. The writeup can be in a markdown or pdf file. "
   ]
  }
 ],
 "metadata": {
  "anaconda-cloud": {},
  "kernelspec": {
   "display_name": "Python 3",
   "language": "python",
   "name": "python3"
  },
  "language_info": {
   "codemirror_mode": {
    "name": "ipython",
    "version": 3
   },
   "file_extension": ".py",
   "mimetype": "text/x-python",
   "name": "python",
   "nbconvert_exporter": "python",
   "pygments_lexer": "ipython3",
   "version": "3.5.3"
  },
  "widgets": {
   "state": {},
   "version": "1.1.2"
  }
 },
 "nbformat": 4,
 "nbformat_minor": 1
}
